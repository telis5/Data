{
  "nbformat": 4,
  "nbformat_minor": 0,
  "metadata": {
    "colab": {
      "provenance": []
    },
    "kernelspec": {
      "display_name": "Python 3",
      "language": "python",
      "name": "python3"
    },
    "language_info": {
      "codemirror_mode": {
        "name": "ipython",
        "version": 3
      },
      "file_extension": ".py",
      "mimetype": "text/x-python",
      "name": "python",
      "nbconvert_exporter": "python",
      "pygments_lexer": "ipython3",
      "version": "3.8.8"
    },
    "toc": {
      "base_numbering": 1,
      "nav_menu": {},
      "number_sections": false,
      "sideBar": false,
      "skip_h1_title": true,
      "title_cell": "Содержание",
      "title_sidebar": "Содержание",
      "toc_cell": true,
      "toc_position": {
        "height": "320px",
        "left": "480px",
        "top": "208.6px",
        "width": "218.55px"
      },
      "toc_section_display": true,
      "toc_window_display": false
    }
  },
  "cells": [
    {
      "cell_type": "markdown",
      "metadata": {
        "id": "xK75TQJUZLMf",
        "toc": true
      },
      "source": [
        "# Практическая работа №1"
      ]
    },
    {
      "cell_type": "code",
      "metadata": {
        "id": "DskqBD5bZLMn"
      },
      "source": [
        "x = True\n",
        "y = 2 > 10\n",
        "z = bool(1)"
      ],
      "execution_count": 1,
      "outputs": []
    },
    {
      "cell_type": "code",
      "metadata": {
        "id": "o71gCwyNZLMq",
        "colab": {
          "base_uri": "https://localhost:8080/"
        },
        "outputId": "2eb6ff07-6f69-494e-8721-2086afc8f923"
      },
      "source": [
        "print(x, y, z)"
      ],
      "execution_count": 2,
      "outputs": [
        {
          "output_type": "stream",
          "name": "stdout",
          "text": [
            "True False True\n"
          ]
        }
      ]
    },
    {
      "cell_type": "code",
      "metadata": {
        "id": "wo824rqfZLMt",
        "colab": {
          "base_uri": "https://localhost:8080/"
        },
        "outputId": "2e29ef0d-e92d-461e-c0ed-1d30ede6d447"
      },
      "source": [
        "if 10 < 1:\n",
        "  print('yes')\n",
        "print('stop')"
      ],
      "execution_count": 3,
      "outputs": [
        {
          "output_type": "stream",
          "name": "stdout",
          "text": [
            "stop\n"
          ]
        }
      ]
    },
    {
      "cell_type": "code",
      "metadata": {
        "id": "tQLVt3xdZLMv",
        "colab": {
          "base_uri": "https://localhost:8080/"
        },
        "outputId": "a410d248-76c1-4b4d-d72f-09b06d337c53"
      },
      "source": [
        "if 'h' in 'python':\n",
        "    print('yes')"
      ],
      "execution_count": 4,
      "outputs": [
        {
          "output_type": "stream",
          "name": "stdout",
          "text": [
            "yes\n"
          ]
        }
      ]
    },
    {
      "cell_type": "code",
      "metadata": {
        "id": "qmlAp-XDZLMy",
        "colab": {
          "base_uri": "https://localhost:8080/"
        },
        "outputId": "da83ffeb-cf8f-4abc-ae62-96fbec458097"
      },
      "source": [
        "name = input('Введите имя ')\n",
        "if name == 'Michael':\n",
        "    print('Hello, Michael')\n",
        "elif name == 'Pam':\n",
        "    print('Hello, Pam')\n",
        "elif name == 'Jim':\n",
        "    print('Hello, Jim')\n",
        "else:\n",
        "    print('Who are you, dude?')"
      ],
      "execution_count": 5,
      "outputs": [
        {
          "output_type": "stream",
          "name": "stdout",
          "text": [
            "Введите имя Dwight\n",
            "Who are you, dude?\n"
          ]
        }
      ]
    },
    {
      "cell_type": "code",
      "metadata": {
        "id": "Bwfw_7yvZLM3",
        "pycharm": {
          "name": "#%%\n"
        },
        "colab": {
          "base_uri": "https://localhost:8080/"
        },
        "outputId": "8c772abe-e902-4126-b02c-75171a282c8f"
      },
      "source": [
        "# обратный отсчет\n",
        "num = int(input())\n",
        "\n",
        "while num > 0:\n",
        "    print(num, end=', ')\n",
        "    num -= 1\n",
        "print(0)"
      ],
      "execution_count": 6,
      "outputs": [
        {
          "output_type": "stream",
          "name": "stdout",
          "text": [
            "100\n",
            "100, 99, 98, 97, 96, 95, 94, 93, 92, 91, 90, 89, 88, 87, 86, 85, 84, 83, 82, 81, 80, 79, 78, 77, 76, 75, 74, 73, 72, 71, 70, 69, 68, 67, 66, 65, 64, 63, 62, 61, 60, 59, 58, 57, 56, 55, 54, 53, 52, 51, 50, 49, 48, 47, 46, 45, 44, 43, 42, 41, 40, 39, 38, 37, 36, 35, 34, 33, 32, 31, 30, 29, 28, 27, 26, 25, 24, 23, 22, 21, 20, 19, 18, 17, 16, 15, 14, 13, 12, 11, 10, 9, 8, 7, 6, 5, 4, 3, 2, 1, 0\n"
          ]
        }
      ]
    },
    {
      "cell_type": "code",
      "metadata": {
        "id": "vY1KpZC_ZLM4",
        "pycharm": {
          "name": "#%%\n"
        },
        "colab": {
          "base_uri": "https://localhost:8080/"
        },
        "outputId": "f36ad42d-06bc-4e7f-d31c-87fee947b079"
      },
      "source": [
        "# проверка вводимых символов\n",
        "while True:\n",
        "    string = input('Введите три числа ')\n",
        "    if string.isdigit() and len(string) == 3:\n",
        "        break\n",
        "    print('Ошибка! Нужны три числа, соберитесь и снова попробуйте.')\n",
        "\n",
        "print('Наконец-то!', string)"
      ],
      "execution_count": 7,
      "outputs": [
        {
          "output_type": "stream",
          "name": "stdout",
          "text": [
            "Введите три числа 12\n",
            "Ошибка! Нужны три числа, соберитесь и снова попробуйте.\n",
            "Введите три числа qwe\n",
            "Ошибка! Нужны три числа, соберитесь и снова попробуйте.\n",
            "Введите три числа 123\n",
            "Наконец-то! 123\n"
          ]
        }
      ]
    }
  ]
}